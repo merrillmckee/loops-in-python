{
 "cells": [
  {
   "cell_type": "code",
   "id": "initial_id",
   "metadata": {
    "collapsed": true,
    "ExecuteTime": {
     "end_time": "2024-10-19T20:46:02.859170Z",
     "start_time": "2024-10-19T20:46:02.813726Z"
    }
   },
   "source": [
    "import math\n",
    "import numpy as np\n",
    "import numpy.typing as npt\n",
    "import time"
   ],
   "outputs": [],
   "execution_count": 1
  },
  {
   "metadata": {
    "ExecuteTime": {
     "end_time": "2024-10-19T20:46:04.241343Z",
     "start_time": "2024-10-19T20:46:04.064871Z"
    }
   },
   "cell_type": "code",
   "source": [
    "count = 20_000_000\n",
    "data = list(range(count))"
   ],
   "id": "aea131dcb9fd9b25",
   "outputs": [],
   "execution_count": 2
  },
  {
   "metadata": {
    "ExecuteTime": {
     "end_time": "2024-10-19T20:46:04.938089Z",
     "start_time": "2024-10-19T20:46:04.934366Z"
    }
   },
   "cell_type": "code",
   "source": [
    "##########\n",
    "# For loop\n",
    "##########\n",
    "def square_root_for_loop(data: list[float]) -> list[float]:\n",
    "    result = []\n",
    "    for x in data:\n",
    "        result.append(math.sqrt(x))\n",
    "    return result"
   ],
   "id": "de6dab118f822376",
   "outputs": [],
   "execution_count": 3
  },
  {
   "metadata": {
    "ExecuteTime": {
     "end_time": "2024-10-19T20:46:07.172923Z",
     "start_time": "2024-10-19T20:46:05.642383Z"
    }
   },
   "cell_type": "code",
   "source": [
    "start = time.time()\n",
    "square_roots = square_root_for_loop(data)\n",
    "elapsed_for_loop = time.time() - start\n",
    "\n",
    "assert square_roots[9] == 3.0\n",
    "print(f\"Total time (for loop): {elapsed_for_loop}\")"
   ],
   "id": "bacd5ef736a950fc",
   "outputs": [
    {
     "name": "stdout",
     "output_type": "stream",
     "text": [
      "Total time (for loop): 1.5272867679595947\n"
     ]
    }
   ],
   "execution_count": 4
  },
  {
   "metadata": {
    "ExecuteTime": {
     "end_time": "2024-10-19T20:46:07.179303Z",
     "start_time": "2024-10-19T20:46:07.177064Z"
    }
   },
   "cell_type": "code",
   "source": [
    "####################\n",
    "# List comprehension\n",
    "####################\n",
    "def square_root_list_comp(data: list[float]) -> list[float]:\n",
    "    result = [math.sqrt(x) for x in data]\n",
    "    return result"
   ],
   "id": "ed6f001649f7b912",
   "outputs": [],
   "execution_count": 5
  },
  {
   "metadata": {
    "ExecuteTime": {
     "end_time": "2024-10-19T20:46:08.718412Z",
     "start_time": "2024-10-19T20:46:07.364274Z"
    }
   },
   "cell_type": "code",
   "source": [
    "start = time.time()\n",
    "square_roots = square_root_list_comp(data)\n",
    "elapsed_list_comp = time.time() - start\n",
    "\n",
    "assert square_roots[9] == 3.0\n",
    "print(f\"Total time (for loop): {elapsed_list_comp}\")"
   ],
   "id": "614f5eea315b1a67",
   "outputs": [
    {
     "name": "stdout",
     "output_type": "stream",
     "text": [
      "Total time (for loop): 1.3513379096984863\n"
     ]
    }
   ],
   "execution_count": 6
  },
  {
   "metadata": {
    "ExecuteTime": {
     "end_time": "2024-10-19T20:46:08.723963Z",
     "start_time": "2024-10-19T20:46:08.722093Z"
    }
   },
   "cell_type": "code",
   "source": [
    "#########\n",
    "# Mapping\n",
    "#########\n",
    "def square_root_mapping(data: list[float]) -> list[float]:\n",
    "    result = list(map(lambda x: math.sqrt(x), data))\n",
    "    return result"
   ],
   "id": "20e33edde4094439",
   "outputs": [],
   "execution_count": 7
  },
  {
   "metadata": {
    "ExecuteTime": {
     "end_time": "2024-10-19T20:46:10.655629Z",
     "start_time": "2024-10-19T20:46:08.992272Z"
    }
   },
   "cell_type": "code",
   "source": [
    "start = time.time()\n",
    "square_roots = square_root_mapping(data)\n",
    "elapsed_mapping = time.time() - start\n",
    "\n",
    "assert square_roots[9] == 3.0\n",
    "print(f\"Total time (for loop): {elapsed_mapping}\")"
   ],
   "id": "6e3b46d09a0235b1",
   "outputs": [
    {
     "name": "stdout",
     "output_type": "stream",
     "text": [
      "Total time (for loop): 1.6607518196105957\n"
     ]
    }
   ],
   "execution_count": 8
  },
  {
   "metadata": {
    "ExecuteTime": {
     "end_time": "2024-10-19T20:46:10.662728Z",
     "start_time": "2024-10-19T20:46:10.660568Z"
    }
   },
   "cell_type": "code",
   "source": [
    "print(f\"{elapsed_for_loop=:.3f} seconds\")\n",
    "print(f\"{elapsed_list_comp=:.3f} seconds\")\n",
    "print(f\"{elapsed_mapping=:.3f} seconds\")"
   ],
   "id": "e1424cdf688e079c",
   "outputs": [
    {
     "name": "stdout",
     "output_type": "stream",
     "text": [
      "elapsed_for_loop=1.527 seconds\n",
      "elapsed_list_comp=1.351 seconds\n",
      "elapsed_mapping=1.661 seconds\n"
     ]
    }
   ],
   "execution_count": 9
  },
  {
   "metadata": {
    "ExecuteTime": {
     "end_time": "2024-10-19T20:46:10.729848Z",
     "start_time": "2024-10-19T20:46:10.727787Z"
    }
   },
   "cell_type": "code",
   "source": [
    "#####################\n",
    "# Numpy vectorization\n",
    "#####################\n",
    "def square_root_numpy(data: npt.NDArray[np.floating]) -> npt.NDArray[np.floating]:\n",
    "    return np.sqrt(data)"
   ],
   "id": "4949d1088de6caec",
   "outputs": [],
   "execution_count": 10
  },
  {
   "metadata": {
    "ExecuteTime": {
     "end_time": "2024-10-19T20:46:12.102878Z",
     "start_time": "2024-10-19T20:46:11.337867Z"
    }
   },
   "cell_type": "code",
   "source": [
    "data = np.array(data, dtype=float)\n",
    "\n",
    "start = time.time()\n",
    "square_roots = square_root_numpy(data)\n",
    "elapsed_numpy = time.time() - start\n",
    "\n",
    "assert square_roots[9] == 3.0\n",
    "print(f\"Total time (numpy): {elapsed_numpy}\")"
   ],
   "id": "2b64da33a68e7eed",
   "outputs": [
    {
     "name": "stdout",
     "output_type": "stream",
     "text": [
      "Total time (numpy): 0.14711689949035645\n"
     ]
    }
   ],
   "execution_count": 11
  },
  {
   "metadata": {
    "ExecuteTime": {
     "end_time": "2024-10-19T20:46:12.165235Z",
     "start_time": "2024-10-19T20:46:12.162703Z"
    }
   },
   "cell_type": "code",
   "source": [
    "print(f\"{elapsed_for_loop=:.3f} seconds\")\n",
    "print(f\"{elapsed_list_comp=:.3f} seconds\")\n",
    "print(f\"{elapsed_mapping=:.3f} seconds\")\n",
    "print(f\"{elapsed_numpy=:.3f} seconds\")"
   ],
   "id": "a18bf60a5f6038a1",
   "outputs": [
    {
     "name": "stdout",
     "output_type": "stream",
     "text": [
      "elapsed_for_loop=1.527 seconds\n",
      "elapsed_list_comp=1.351 seconds\n",
      "elapsed_mapping=1.661 seconds\n",
      "elapsed_numpy=0.147 seconds\n"
     ]
    }
   ],
   "execution_count": 12
  },
  {
   "metadata": {},
   "cell_type": "code",
   "source": "",
   "id": "1bfd6cadbcd9e64c",
   "outputs": [],
   "execution_count": null
  }
 ],
 "metadata": {
  "kernelspec": {
   "display_name": "Python 3",
   "language": "python",
   "name": "python3"
  },
  "language_info": {
   "codemirror_mode": {
    "name": "ipython",
    "version": 2
   },
   "file_extension": ".py",
   "mimetype": "text/x-python",
   "name": "python",
   "nbconvert_exporter": "python",
   "pygments_lexer": "ipython2",
   "version": "2.7.6"
  }
 },
 "nbformat": 4,
 "nbformat_minor": 5
}
