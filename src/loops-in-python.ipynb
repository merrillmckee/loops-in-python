{
 "cells": [
  {
   "cell_type": "code",
   "id": "initial_id",
   "metadata": {
    "collapsed": true,
    "ExecuteTime": {
     "end_time": "2024-10-19T20:41:14.109931Z",
     "start_time": "2024-10-19T20:41:14.106588Z"
    }
   },
   "source": [
    "import math\n",
    "import numpy as np\n",
    "import numpy.typing as npt\n",
    "import time"
   ],
   "outputs": [],
   "execution_count": 72
  },
  {
   "metadata": {
    "ExecuteTime": {
     "end_time": "2024-10-19T20:41:15.156174Z",
     "start_time": "2024-10-19T20:41:14.975045Z"
    }
   },
   "cell_type": "code",
   "source": [
    "count = 20_000_000\n",
    "data = list(range(count))"
   ],
   "id": "aea131dcb9fd9b25",
   "outputs": [],
   "execution_count": 73
  },
  {
   "metadata": {
    "ExecuteTime": {
     "end_time": "2024-10-19T20:41:15.782635Z",
     "start_time": "2024-10-19T20:41:15.780497Z"
    }
   },
   "cell_type": "code",
   "source": [
    "##########\n",
    "# For loop\n",
    "##########\n",
    "def square_root_for_loop(data: list[float]) -> list[float]:\n",
    "    result = []\n",
    "    for x in data:\n",
    "        result.append(math.sqrt(x))\n",
    "    return result"
   ],
   "id": "de6dab118f822376",
   "outputs": [],
   "execution_count": 74
  },
  {
   "metadata": {
    "ExecuteTime": {
     "end_time": "2024-10-19T20:41:18.020872Z",
     "start_time": "2024-10-19T20:41:16.518771Z"
    }
   },
   "cell_type": "code",
   "source": [
    "start = time.time()\n",
    "square_roots = square_root_for_loop(data)\n",
    "elapsed_for_loop = time.time() - start\n",
    "\n",
    "assert square_roots[9] == 3.0\n",
    "print(f\"Total time (for loop): {elapsed_for_loop}\")"
   ],
   "id": "bacd5ef736a950fc",
   "outputs": [
    {
     "name": "stdout",
     "output_type": "stream",
     "text": [
      "Total time (for loop): 1.49947190284729\n"
     ]
    }
   ],
   "execution_count": 75
  },
  {
   "metadata": {
    "ExecuteTime": {
     "end_time": "2024-10-19T20:41:18.026664Z",
     "start_time": "2024-10-19T20:41:18.024768Z"
    }
   },
   "cell_type": "code",
   "source": [
    "####################\n",
    "# List comprehension\n",
    "####################\n",
    "def square_root_list_comp(data: list[float]) -> list[float]:\n",
    "    result = [math.sqrt(x) for x in data]\n",
    "    return result"
   ],
   "id": "ed6f001649f7b912",
   "outputs": [],
   "execution_count": 76
  },
  {
   "metadata": {
    "ExecuteTime": {
     "end_time": "2024-10-19T20:41:19.657670Z",
     "start_time": "2024-10-19T20:41:18.345210Z"
    }
   },
   "cell_type": "code",
   "source": [
    "start = time.time()\n",
    "square_roots = square_root_list_comp(data)\n",
    "elapsed_list_comp = time.time() - start\n",
    "\n",
    "assert square_roots[9] == 3.0\n",
    "print(f\"Total time (for loop): {elapsed_list_comp}\")"
   ],
   "id": "614f5eea315b1a67",
   "outputs": [
    {
     "name": "stdout",
     "output_type": "stream",
     "text": [
      "Total time (for loop): 1.3096468448638916\n"
     ]
    }
   ],
   "execution_count": 77
  },
  {
   "metadata": {
    "ExecuteTime": {
     "end_time": "2024-10-19T20:41:19.663473Z",
     "start_time": "2024-10-19T20:41:19.661473Z"
    }
   },
   "cell_type": "code",
   "source": [
    "#########\n",
    "# Mapping\n",
    "#########\n",
    "def square_root_mapping(data: list[float]) -> list[float]:\n",
    "    result = list(map(lambda x: math.sqrt(x), data))\n",
    "    return result"
   ],
   "id": "20e33edde4094439",
   "outputs": [],
   "execution_count": 78
  },
  {
   "metadata": {
    "ExecuteTime": {
     "end_time": "2024-10-19T20:41:21.338464Z",
     "start_time": "2024-10-19T20:41:19.669651Z"
    }
   },
   "cell_type": "code",
   "source": [
    "start = time.time()\n",
    "square_roots = square_root_mapping(data)\n",
    "elapsed_mapping = time.time() - start\n",
    "\n",
    "assert square_roots[9] == 3.0\n",
    "print(f\"Total time (for loop): {elapsed_mapping}\")"
   ],
   "id": "6e3b46d09a0235b1",
   "outputs": [
    {
     "name": "stdout",
     "output_type": "stream",
     "text": [
      "Total time (for loop): 1.666898250579834\n"
     ]
    }
   ],
   "execution_count": 79
  },
  {
   "metadata": {
    "ExecuteTime": {
     "end_time": "2024-10-19T20:41:21.400785Z",
     "start_time": "2024-10-19T20:41:21.398490Z"
    }
   },
   "cell_type": "code",
   "source": [
    "print(f\"{elapsed_for_loop=:.3f} seconds\")\n",
    "print(f\"{elapsed_list_comp=:.3f} seconds\")\n",
    "print(f\"{elapsed_mapping=:.3f} seconds\")"
   ],
   "id": "e1424cdf688e079c",
   "outputs": [
    {
     "name": "stdout",
     "output_type": "stream",
     "text": [
      "elapsed_for_loop=1.499 seconds\n",
      "elapsed_list_comp=1.310 seconds\n",
      "elapsed_mapping=1.667 seconds\n"
     ]
    }
   ],
   "execution_count": 80
  },
  {
   "metadata": {
    "ExecuteTime": {
     "end_time": "2024-10-19T20:41:21.471483Z",
     "start_time": "2024-10-19T20:41:21.469217Z"
    }
   },
   "cell_type": "code",
   "source": [
    "#####################\n",
    "# Numpy vectorization\n",
    "#####################\n",
    "def square_root_numpy(data: npt.NDArray[np.floating]) -> npt.NDArray[np.floating]:\n",
    "    return np.sqrt(data)"
   ],
   "id": "4949d1088de6caec",
   "outputs": [],
   "execution_count": 81
  },
  {
   "metadata": {
    "ExecuteTime": {
     "end_time": "2024-10-19T20:41:22.183203Z",
     "start_time": "2024-10-19T20:41:21.492068Z"
    }
   },
   "cell_type": "code",
   "source": [
    "data = np.array(data)\n",
    "\n",
    "start = time.time()\n",
    "square_roots = square_root_numpy(data)\n",
    "elapsed_numpy = time.time() - start\n",
    "\n",
    "assert square_roots[9] == 3.0\n",
    "print(f\"Total time (numpy): {elapsed_numpy}\")"
   ],
   "id": "2b64da33a68e7eed",
   "outputs": [
    {
     "name": "stdout",
     "output_type": "stream",
     "text": [
      "Total time (numpy): 0.15111494064331055\n"
     ]
    }
   ],
   "execution_count": 82
  },
  {
   "metadata": {
    "ExecuteTime": {
     "end_time": "2024-10-19T20:41:22.277594Z",
     "start_time": "2024-10-19T20:41:22.274792Z"
    }
   },
   "cell_type": "code",
   "source": [
    "print(f\"{elapsed_for_loop=:.3f} seconds\")\n",
    "print(f\"{elapsed_list_comp=:.3f} seconds\")\n",
    "print(f\"{elapsed_mapping=:.3f} seconds\")\n",
    "print(f\"{elapsed_numpy=:.3f} seconds\")"
   ],
   "id": "a18bf60a5f6038a1",
   "outputs": [
    {
     "name": "stdout",
     "output_type": "stream",
     "text": [
      "elapsed_for_loop=1.499 seconds\n",
      "elapsed_list_comp=1.310 seconds\n",
      "elapsed_mapping=1.667 seconds\n",
      "elapsed_numpy=0.151 seconds\n"
     ]
    }
   ],
   "execution_count": 83
  },
  {
   "metadata": {},
   "cell_type": "code",
   "outputs": [],
   "execution_count": null,
   "source": "",
   "id": "1bfd6cadbcd9e64c"
  }
 ],
 "metadata": {
  "kernelspec": {
   "display_name": "Python 3",
   "language": "python",
   "name": "python3"
  },
  "language_info": {
   "codemirror_mode": {
    "name": "ipython",
    "version": 2
   },
   "file_extension": ".py",
   "mimetype": "text/x-python",
   "name": "python",
   "nbconvert_exporter": "python",
   "pygments_lexer": "ipython2",
   "version": "2.7.6"
  }
 },
 "nbformat": 4,
 "nbformat_minor": 5
}
